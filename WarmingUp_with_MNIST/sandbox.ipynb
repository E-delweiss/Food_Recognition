{
 "cells": [
  {
   "cell_type": "code",
   "execution_count": 1,
   "metadata": {},
   "outputs": [],
   "source": [
    "import torch\n",
    "import numpy as np\n",
    "import matplotlib.pyplot as plt\n",
    "import PIL\n",
    "\n",
    "from MNIST_dataset import get_training_dataset"
   ]
  },
  {
   "cell_type": "code",
   "execution_count": 60,
   "metadata": {},
   "outputs": [],
   "source": [
    "training_dataset, len_dataset = get_training_dataset()\n",
    "for img, bbox_true, label in training_dataset:\n",
    "    break\n",
    "\n",
    "idx = np.random.randint(0,64)\n"
   ]
  },
  {
   "cell_type": "code",
   "execution_count": 78,
   "metadata": {},
   "outputs": [
    {
     "data": {
      "text/plain": [
       "(tensor([3]), tensor([2]))"
      ]
     },
     "execution_count": 78,
     "metadata": {},
     "output_type": "execute_result"
    }
   ],
   "source": [
    "cell_i, cell_j, _ = bbox_true[idx].nonzero()[::5].permute(1,0)\n",
    "cell_i, cell_j"
   ]
  },
  {
   "cell_type": "code",
   "execution_count": 80,
   "metadata": {},
   "outputs": [],
   "source": [
    "xrcell = bbox_true[idx][cell_i,cell_j,0]\n",
    "yrcell = bbox_true[idx][cell_i,cell_j,1]\n",
    "rw = bbox_true[idx][cell_i,cell_j,2]\n",
    "rh = bbox_true[idx][cell_i,cell_j,3]"
   ]
  },
  {
   "cell_type": "code",
   "execution_count": 65,
   "metadata": {},
   "outputs": [
    {
     "data": {
      "text/plain": [
       "tensor([-0.1600])"
      ]
     },
     "execution_count": 65,
     "metadata": {},
     "output_type": "execute_result"
    }
   ],
   "source": [
    "xrcell *(1/6) -rw/2"
   ]
  },
  {
   "cell_type": "code",
   "execution_count": 64,
   "metadata": {},
   "outputs": [
    {
     "data": {
      "image/png": "[encoded data removed]",
      "text/plain": [
       "<Figure size 360x360 with 1 Axes>"
      ]
     },
     "metadata": {
      "needs_background": "light"
     },
     "output_type": "display_data"
    }
   ],
   "source": [
    "S=6\n",
    "\n",
    "fig = plt.figure(figsize=(1, 1))\n",
    "\n",
    "img_t = img[idx].to(torch.device('cpu')).squeeze(0)\n",
    "img_arr = img_t.numpy() * 255.0\n",
    "img1 = PIL.Image.fromarray(img_arr)\n",
    "rgbimg = PIL.Image.new(\"RGBA\", img1.size)\n",
    "rgbimg.paste(img1)\n",
    "\n",
    "# xmin = xrcell * cell_j * (1/6) * 75\n",
    "rxc = xrcell*(1/S) + cell_j * (1/S)\n",
    "xmin = (rxc - rw/2)*75\n",
    "\n",
    "# ymin = xrcell * cell_i * (1/6) * 75\n",
    "ryc = (yrcell*(1/S) + cell_i * (1/S))\n",
    "ymin = (ryc - rh/2)*75\n",
    "\n",
    "xmax = xmin + rw * 75 \n",
    "ymax = ymin + rh * 75\n",
    "\n",
    "\n",
    "cx_abs = (xmin+xmax)/2\n",
    "cy_abs = (ymin+ymax)/2\n",
    "\n",
    "left, right, top, bottom = xmin, xmax, ymin, ymax\n",
    "\n",
    "draw = PIL.ImageDraw.Draw(rgbimg)\n",
    "draw.line([(left, top), (left, bottom), (right, bottom), (right, top), (left, top)], width=2, fill='red')\n",
    "draw.point((cx_abs,cy_abs), fill=\"red\")\n",
    "\n",
    "gleft = 0\n",
    "gright = 0\n",
    "for it in range(6):\n",
    "    g1 = 12.5*it\n",
    "    g2 = 12.5*it\n",
    "    \n",
    "    grid_x = [(0,g1), (75,g2)]\n",
    "    grid_y = [(g1,0), (g2,75)]\n",
    "    draw.line(grid_x)\n",
    "    draw.line(grid_y)\n",
    "\n",
    "fig.set_size_inches(5, 5)\n",
    "plt.imshow(rgbimg)\n",
    "plt.axis('off');"
   ]
  },
  {
   "cell_type": "code",
   "execution_count": null,
   "metadata": {},
   "outputs": [],
   "source": []
  }
 ],
 "metadata": {
  "kernelspec": {
   "display_name": "Python 3.9.13 ('base')",
   "language": "python",
   "name": "python3"
  },
  "language_info": {
   "codemirror_mode": {
    "name": "ipython",
    "version": 3
   },
   "file_extension": ".py",
   "mimetype": "text/x-python",
   "name": "python",
   "nbconvert_exporter": "python",
   "pygments_lexer": "ipython3",
   "version": "3.9.13"
  },
  "orig_nbformat": 4,
  "vscode": {
   "interpreter": {
    "hash": "bfc2e043f4a41bbce066f7921047bdcfe8769546c7198e4df6482fd90de274f1"
   }
  }
 },
 "nbformat": 4,
 "nbformat_minor": 2
}
