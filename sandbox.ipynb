{
 "cells": [
  {
   "cell_type": "code",
   "execution_count": 2,
   "metadata": {},
   "outputs": [],
   "source": [
    "import torch\n",
    "import numpy as np\n",
    "import matplotlib.pyplot as plt\n",
    "import PIL\n",
    "\n"
   ]
  },
  {
   "cell_type": "code",
   "execution_count": 48,
   "metadata": {},
   "outputs": [],
   "source": [
    "size = 448\n",
    "S = 7\n",
    "B = 2\n",
    "C = 8\n",
    "channel_img = 3\n",
    "BATCH_SIZE = 16\n",
    "\n",
    "box_true = torch.zeros(BATCH_SIZE, S, S, 4+1)\n",
    "N = range(BATCH_SIZE)\n",
    "i = torch.randint(S, (1,BATCH_SIZE))\n",
    "j = torch.randint(S, (1,BATCH_SIZE))\n",
    "box_value = torch.rand((BATCH_SIZE, 4+1))\n",
    "box_true[N,i,j] = box_value\n",
    "box_true[N,i+1,j-2] = box_value\n",
    "box_true[N,i-2,j-1] = box_value\n",
    "\n",
    "\n",
    "# box_true\n"
   ]
  },
  {
   "cell_type": "code",
   "execution_count": null,
   "metadata": {},
   "outputs": [],
   "source": [
    "cells_with_obj = box_true.nonzero()\n",
    "cells_with_obj"
   ]
  },
  {
   "cell_type": "code",
   "execution_count": null,
   "metadata": {},
   "outputs": [],
   "source": []
  },
  {
   "cell_type": "code",
   "execution_count": 56,
   "metadata": {},
   "outputs": [],
   "source": [
    "a = torch.randint(0,9,(3,3,5))\n",
    "b = torch.randint(0,9,(3,3,5))"
   ]
  },
  {
   "cell_type": "code",
   "execution_count": 57,
   "metadata": {},
   "outputs": [
    {
     "data": {
      "text/plain": [
       "tensor([[[4, 3, 1, 0, 4],\n",
       "         [8, 2, 8, 5, 8],\n",
       "         [0, 4, 8, 0, 7]],\n",
       "\n",
       "        [[3, 4, 4, 1, 2],\n",
       "         [6, 7, 2, 5, 8],\n",
       "         [8, 3, 2, 3, 6]],\n",
       "\n",
       "        [[0, 0, 6, 5, 7],\n",
       "         [2, 4, 0, 7, 1],\n",
       "         [8, 0, 8, 2, 8]]])"
      ]
     },
     "execution_count": 57,
     "metadata": {},
     "output_type": "execute_result"
    }
   ],
   "source": [
    "a"
   ]
  }
 ],
 "metadata": {
  "kernelspec": {
   "display_name": "Python 3.9.13 ('base')",
   "language": "python",
   "name": "python3"
  },
  "language_info": {
   "codemirror_mode": {
    "name": "ipython",
    "version": 3
   },
   "file_extension": ".py",
   "mimetype": "text/x-python",
   "name": "python",
   "nbconvert_exporter": "python",
   "pygments_lexer": "ipython3",
   "version": "3.9.13"
  },
  "orig_nbformat": 4,
  "vscode": {
   "interpreter": {
    "hash": "bfc2e043f4a41bbce066f7921047bdcfe8769546c7198e4df6482fd90de274f1"
   }
  }
 },
 "nbformat": 4,
 "nbformat_minor": 2
}
