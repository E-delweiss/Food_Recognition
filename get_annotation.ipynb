{
 "cells": [
  {
   "cell_type": "code",
   "execution_count": 1,
   "metadata": {},
   "outputs": [],
   "source": [
    "\n",
    "import glob\n",
    "import numpy as np\n",
    "\n",
    "from utils import plot_bboxes"
   ]
  },
  {
   "cell_type": "code",
   "execution_count": 48,
   "metadata": {},
   "outputs": [],
   "source": [
    "path = r\"/Users/thierryksstentini/Documents/Python_divers/GitHub/Food_Recognition/plato_dataset/obj_train_data\"\n",
    "data_txt = glob.glob(path + '/*.txt')\n",
    "data_img = glob.glob(path + '/*.jpg')"
   ]
  },
  {
   "cell_type": "code",
   "execution_count": 49,
   "metadata": {},
   "outputs": [
    {
     "data": {
      "text/plain": [
       "'/Users/thierryksstentini/Documents/Python_divers/GitHub/Food_Recognition/plato_dataset/obj_train_data/20220308112654_000042_059_0000000001_B______xx_C (2577).txt'"
      ]
     },
     "execution_count": 49,
     "metadata": {},
     "output_type": "execute_result"
    }
   ],
   "source": [
    "data_txt[10]"
   ]
  },
  {
   "cell_type": "code",
   "execution_count": 46,
   "metadata": {},
   "outputs": [],
   "source": [
    "annotations = {}\n",
    "for file in data_txt:\n",
    "    obj_dict = {}\n",
    "    with open(file, 'r') as f:\n",
    "        line = f.readline()\n",
    "        while len(line) != 0:\n",
    "            annot_split = line.split()\n",
    "            annot_split_float = [float(k) for k in annot_split[1:]]\n",
    "            label = int(annot_split[0])\n",
    "            obj_dict[label] = annot_split_float\n",
    "            line = f.readline()\n",
    "        \n",
    "        if bool(obj_dict):\n",
    "            start = file.rfind('/')+1\n",
    "            end = file.rfind('.txt')\n",
    "            key = file[start : end]\n",
    "            annotations[key] = obj_dict"
   ]
  },
  {
   "cell_type": "code",
   "execution_count": 50,
   "metadata": {},
   "outputs": [
    {
     "ename": "TypeError",
     "evalue": "plot_bboxes() takes 0 positional arguments but 3 were given",
     "output_type": "error",
     "traceback": [
      "\u001b[0;31m---------------------------------------------------------------------------\u001b[0m",
      "\u001b[0;31mTypeError\u001b[0m                                 Traceback (most recent call last)",
      "\u001b[1;32m/Users/thierryksstentini/Documents/Python_divers/GitHub/Food_Recognition/get_annotation.ipynb Cellule 5\u001b[0m in \u001b[0;36m<cell line: 2>\u001b[0;34m()\u001b[0m\n\u001b[1;32m      <a href='vscode-notebook-cell:/Users/thierryksstentini/Documents/Python_divers/GitHub/Food_Recognition/get_annotation.ipynb#X11sZmlsZQ%3D%3D?line=0'>1</a>\u001b[0m img_name \u001b[39m=\u001b[39m \u001b[39m'\u001b[39m\u001b[39m20220308112654_000042_059_0000000001_B______xx_C (2577)\u001b[39m\u001b[39m'\u001b[39m\n\u001b[0;32m----> <a href='vscode-notebook-cell:/Users/thierryksstentini/Documents/Python_divers/GitHub/Food_Recognition/get_annotation.ipynb#X11sZmlsZQ%3D%3D?line=1'>2</a>\u001b[0m plot_bboxes(annotations, img_name, path)\n",
      "\u001b[0;31mTypeError\u001b[0m: plot_bboxes() takes 0 positional arguments but 3 were given"
     ]
    }
   ],
   "source": [
    "img_name = '20220308112654_000042_059_0000000001_B______xx_C (2577)'\n",
    "plot_bboxes(annotations, img_name, path)"
   ]
  },
  {
   "cell_type": "code",
   "execution_count": null,
   "metadata": {},
   "outputs": [],
   "source": []
  }
 ],
 "metadata": {
  "kernelspec": {
   "display_name": "Python 3.9.13 ('base')",
   "language": "python",
   "name": "python3"
  },
  "language_info": {
   "codemirror_mode": {
    "name": "ipython",
    "version": 3
   },
   "file_extension": ".py",
   "mimetype": "text/x-python",
   "name": "python",
   "nbconvert_exporter": "python",
   "pygments_lexer": "ipython3",
   "version": "3.9.13"
  },
  "orig_nbformat": 4,
  "vscode": {
   "interpreter": {
    "hash": "bfc2e043f4a41bbce066f7921047bdcfe8769546c7198e4df6482fd90de274f1"
   }
  }
 },
 "nbformat": 4,
 "nbformat_minor": 2
}
